{
 "cells": [
  {
   "cell_type": "markdown",
   "metadata": {},
   "source": [
    "# Resources"
   ]
  },
  {
   "cell_type": "markdown",
   "metadata": {},
   "source": [
    "### GAIA\n",
    "\n",
    "The main access page to GAIA DR1:\n",
    "https://www.cosmos.esa.int/web/gaia/dr1\n",
    "\n",
    "This page has slides from a number of talks about various ways of accessing GAIA data:\n",
    "https://www.cosmos.esa.int/web/gaia-2016-data-workshop/presentations-and-videos\n",
    "\n",
    "The \"GAIA Sprint\" was an event where a bunch of folks got together to play with GAIA data:\n",
    "http://davidwhogg.github.io/GaiaSprint/2016NYC.html\n"
   ]
  },
  {
   "cell_type": "markdown",
   "metadata": {},
   "source": [
    "### Plotting\n",
    "\n",
    "Various different ways of expressing the celestial sphere in a 2D plot:\n",
    "http://matplotlib.org/examples/pylab_examples/geo_demo.html"
   ]
  }
 ],
 "metadata": {
  "anaconda-cloud": {},
  "kernelspec": {
   "display_name": "Python [default]",
   "language": "python",
   "name": "python2"
  },
  "language_info": {
   "codemirror_mode": {
    "name": "ipython",
    "version": 2
   },
   "file_extension": ".py",
   "mimetype": "text/x-python",
   "name": "python",
   "nbconvert_exporter": "python",
   "pygments_lexer": "ipython2",
   "version": "2.7.12"
  }
 },
 "nbformat": 4,
 "nbformat_minor": 2
}
