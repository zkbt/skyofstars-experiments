{
 "cells": [
  {
   "cell_type": "markdown",
   "metadata": {},
   "source": [
    "### In this notebook:\n",
    "#### Functions to eliminate duplicates that happen when the HIPPARCOS and GAIA star catalogs get combined"
   ]
  },
  {
   "cell_type": "code",
   "execution_count": 1,
   "metadata": {
    "collapsed": false
   },
   "outputs": [],
   "source": [
    "import numpy as np\n",
    "import matplotlib.pyplot as plt\n",
    "%matplotlib inline\n",
    "import astropy.io.ascii as a\n",
    "\n",
    "import astropy.table\n",
    "import FunctionsToLoadGaia as load\n",
    "import FunctionsForGaia as F\n",
    "from math import pi\n",
    "from astropy.coordinates import SkyCoord"
   ]
  },
  {
   "cell_type": "markdown",
   "metadata": {},
   "source": [
    "#### Extraction RA and Dec (and distance?) from each Tgas file and then combinign them in a large file that will serve to compare GAIA to Hipparcos. Can't use the same combined file of GAIA data we used previously because RA and DEC got turned to X,Y,Z coordinates."
   ]
  },
  {
   "cell_type": "code",
   "execution_count": 2,
   "metadata": {
    "collapsed": false
   },
   "outputs": [],
   "source": [
    "def findGalactic(filename):\n",
    "    \"\"\" \n",
    "    This formula extracts arrays of right ascension and declinaton.\n",
    "    for each star. Right ascecsion values are set to range from -180º \n",
    "    to 180º.\n",
    "    Both declination and right ascencion arrays are turned from degrees\n",
    "    to radians. \n",
    "    The distance is calculated from the parallax.\n",
    "    RA,DEC and distance are then used to calculate the galactic latitude and longitude of each star.\n",
    "    RA, Dec, distance, galactic latitude and galactic longitude are returned. \n",
    "    \"\"\"\n",
    "    \n",
    "    hdu = astropy.io.fits.open(filename)\n",
    "    table = astropy.table.Table(hdu[1].data)\n",
    "    dec = (table['dec'].data)*(pi/180) #change degrees to radians.\n",
    "    \n",
    "    RA = (table['ra'].data)\n",
    "    over180 = RA > 180 #want RA values to be from -180 to 180\n",
    "    RA[over180] = (RA[over180] - 360)\n",
    "    ra = RA*(pi/180) #change degrees to radians.\n",
    "    \n",
    "    Parallax= table['parallax'].data\n",
    "    Parallax = Parallax/1000 # ZKBT: the GAIA parallaxes are in units of milliarcseconds; let's convert to arcsec\n",
    "    negative = Parallax<0\n",
    "    Parallax[negative] = 10**(-6) #replace al negative parallaxes with 10^-6 arcseconds\n",
    "    uncertainty = (table['parallax_error']/table['parallax']) > 0.5\n",
    "    Parallax[uncertainty] = 10**(-6) #replace all parallaxes with uncertainty greater than 50% with 10^-6 arcseconds\n",
    "    distance = F.ParallaxToDistance(Parallax)\n",
    "    \n",
    "\n",
    "    c = SkyCoord(ra,dec,frame='icrs',unit='rad')\n",
    "    longitude = c.galactic.l.rad\n",
    "    overPi= longitude >np.pi\n",
    "    longitude[overPi]-=2*np.pi\n",
    "    latitude = c.galactic.b.rad\n",
    "\n",
    "\n",
    "    return ra, dec, distance,longitude,latitude"
   ]
  },
  {
   "cell_type": "code",
   "execution_count": 3,
   "metadata": {
    "collapsed": false
   },
   "outputs": [],
   "source": [
    "from glob import glob\n",
    "filenames = glob('data/TgasSource_000-000-*.fits')\n",
    "\n",
    "RA,DEC,Distance,Longitude,Latitude = np.array([]), np.array([]), np.array([]),np.array([]),np.array([])\n",
    "for f in filenames:\n",
    "    ra,dec, distance,longitude,latitude = findGalactic(f)\n",
    "    RA = np.append(RA,ra)\n",
    "    DEC = np.append(DEC,dec)\n",
    "    Distance = np.append(Distance,distance)\n",
    "    Longitude = np.append(Longitude,longitude)\n",
    "    Latitude= np.append(Latitude,latitude)\n",
    "\n",
    "gaiaGalactic=astropy.table.Table([RA,DEC,Distance,Longitude,Latitude], names=['RA','Dec','Distance','Longitude','Latitude']) #make a table that has both Ra and Dec\n"
   ]
  },
  {
   "cell_type": "code",
   "execution_count": 4,
   "metadata": {
    "collapsed": false
   },
   "outputs": [
    {
     "name": "stdout",
     "output_type": "stream",
     "text": [
      "       RA              Dec           Distance      Longitude        Latitude   \n",
      "--------------- ----------------- -------------- -------------- ---------------\n",
      " 0.785997341115  0.00410835930241  32467559.4551  3.08470222661 -0.850227004082\n",
      " 0.788278074838  0.00349183991191  52883951.5028  3.08777411686 -0.849015437717\n",
      " 0.786901848987  0.00434282318118  65370627.8468  3.08540012761 -0.849414076325\n",
      " 0.786559532667  0.00433209554591   89978969.807  3.08505126483 -0.849667504461\n",
      " 0.787772478301  0.00584761401909  130375962.375  3.08468076696 -0.847741880531\n",
      " 0.787865676997  0.00627652194242  23809637.6422  3.08431333016 -0.847376485494\n",
      " 0.788067800672  0.00674295564092  36198210.0076  3.08402001325 -0.846906704869\n",
      " 0.787366523381  0.00664697326872  98652952.7274  3.08338657294 -0.847476870231\n",
      " 0.785577400102  0.00612782915085  33255149.8166  3.08206434227 -0.849121824911\n",
      " 0.784955884679  0.00826364927436  122946931.639  3.07909433433 -0.848076106882\n",
      "            ...               ...            ...            ...             ...\n",
      "-0.780681128827  -0.0134174711842   65072436.501 0.843462998792 -0.504187228235\n",
      "-0.778225520873 -0.00834785290428  8777254.58153 0.849869771375 -0.503682841757\n",
      "-0.787959198107 -0.00941983599579  33913132.8534 0.843114640021 -0.495889581169\n",
      "-0.794827313135   -0.012639812795  15039311.8139 0.835980662145 -0.491638481793\n",
      "-0.789476756113  -0.0082582157627  25903998.7983 0.843362059434 -0.493990961125\n",
      "-0.788677784629 -0.00767302184152 206264806247.0 0.844398557607 -0.494375841661\n",
      "-0.789906341212 -0.00738617859549  40648862.7307 0.843961181831 -0.493174501264\n",
      "-0.791614713899 -0.00567188973506    121450254.2 0.844633760525 -0.490828060858\n",
      "-0.780460983107 -0.00598957415991  34167122.8904 0.850857281825 -0.500550874659\n",
      "-0.789924706862 -0.00398133339618  138979129.813 0.847263762844 -0.491407344534\n",
      " -0.78608354374  -0.0038624278808  76961282.4991 0.849627350107 -0.494637408946\n",
      "Length = 2057050 rows\n"
     ]
    }
   ],
   "source": [
    "#separate each column to graph later\n",
    "gaiaRa = gaiaGalactic['RA']\n",
    "gaiaDec = gaiaGalactic['Dec']\n",
    "gaiaLongitude = gaiaGalactic['Longitude']\n",
    "gaiaLatitude=gaiaGalactic['Latitude']\n",
    "gaiaDistance = gaiaGalactic['Distance']\n",
    "\n",
    "print gaiaGalactic"
   ]
  },
  {
   "cell_type": "code",
   "execution_count": 5,
   "metadata": {
    "collapsed": false
   },
   "outputs": [
    {
     "data": {
      "text/plain": [
       "2057050"
      ]
     },
     "execution_count": 5,
     "metadata": {},
     "output_type": "execute_result"
    }
   ],
   "source": [
    "gaiaDistance.size"
   ]
  },
  {
   "cell_type": "markdown",
   "metadata": {},
   "source": [
    "#### The Hipparcos catalog has stars positions saved as X,Y,Z coodrinates. Have to  turn these back into RA and DEC. "
   ]
  },
  {
   "cell_type": "code",
   "execution_count": 6,
   "metadata": {
    "collapsed": true
   },
   "outputs": [],
   "source": [
    "def toGalacticCoordinates (X,Y,Z):\n",
    "    \"\"\"\n",
    "    This function converts X,Y and Z coordinates into\n",
    "    Right ascenceion, declination and distance for each star of the set\n",
    "    \n",
    "    Parameters: \n",
    "    ------------------------------------------\n",
    "    X,Y,Z = Arrays of the x,y and z coordinates for a set of stars.\n",
    "    \n",
    "    Returns:\n",
    "    ------------------------------------------\n",
    "    RA = array of the right ascencion of each star.\n",
    "    Dec = array of the declination of each star. \n",
    "    Distances = array of the distances to each star. \n",
    "    \n",
    "    \"\"\"\n",
    "   \n",
    "    # lets convert them to GALACTIC latitude and longitude\n",
    "    distance = np.sqrt(X**2 + Y**2 + Z**2)\n",
    "\n",
    "    # this GALACTIC longitude is 0 at the center of the galaxy \n",
    "    galactic_longitude = np.arctan2(Y, X)      # in radians\n",
    "\n",
    "    # GALACTIC latitude is 0 along the galactic equator\n",
    "    galactic_latitude = np.arcsin(Z/distance)  # in radians\n",
    "    galactic_latitude[0] = 0\n",
    "\n",
    "    # we can use astropy to create a SkyCoord object containing these positions\n",
    "    coord = SkyCoord(galactic_longitude, galactic_latitude, frame='galactic', unit='rad')\n",
    "    \n",
    "    # RA and Dec are the CELESTIAL system\n",
    "    celestial_longitude = coord.icrs.ra.rad # in radians\n",
    "    celestial_latitude = coord.icrs.dec.rad # in radians\n",
    "    RA=celestial_longitude\n",
    "    dec = celestial_latitude\n",
    "    \n",
    "    over2pi = RA > np.pi #want RA values to be from -pi to pi\n",
    "    RA[over2pi] = (RA[over2pi] - 2*np.pi)\n",
    "    ra = RA\n",
    "    \n",
    "    longitude = galactic_longitude\n",
    "    latitude = galactic_latitude\n",
    "    \n",
    "    return ra, dec, distance,longitude,latitude"
   ]
  },
  {
   "cell_type": "code",
   "execution_count": 7,
   "metadata": {
    "collapsed": false
   },
   "outputs": [
    {
     "name": "stderr",
     "output_type": "stream",
     "text": [
      "/anaconda/lib/python2.7/site-packages/ipykernel/__main__.py:25: RuntimeWarning: invalid value encountered in divide\n"
     ]
    },
    {
     "name": "stdout",
     "output_type": "stream",
     "text": [
      "        RA               Dec        ...    Longitude        Latitude    \n",
      "----------------- ----------------- ... --------------- ----------------\n",
      "   -1.63354111784   -0.505031574886 ...             0.0              0.0\n",
      "1.56403842215e-05   0.0190067404563 ...   1.69621427761   -1.03301305049\n",
      "7.43100415281e-05   -0.340318912418 ...   1.10159984506   -1.32572348434\n",
      "8.75028413558e-05    0.678222282789 ...   1.95634020902  -0.400161573313\n",
      "0.000150629781791   -0.905713275441 ... -0.684294998509   -1.10680712166\n",
      "0.000173990103705   -0.708450220825 ... -0.385756198557   -1.27167634379\n",
      "0.000326125414462   0.0688785397096 ...   1.73170232462  -0.986844566069\n",
      "0.000384366439616    0.349695742663 ...   1.86435033231  -0.719486226329\n",
      "0.000476441447119     0.45180409804 ...   1.89739784661  -0.620709503257\n",
      "0.000616325145657    0.638545381211 ...   1.94737728429  -0.438987370092\n",
      "              ...               ... ...             ...              ...\n",
      "  -0.767603136332   -0.101631532723 ...  0.762063217118  -0.559257183284\n",
      "  -0.592808435707     0.50166085907 ...   1.40646497863  -0.320087491524\n",
      "  -0.507178255915     1.12797708888 ...   1.85275474929   0.128597048995\n",
      "  -0.407650852129   -0.292211844767 ...  0.742690555458  -0.959586422314\n",
      "  -0.397782416985 0.000348973443342 ...   1.14142195138  -0.808181022343\n",
      "  -0.230187220574   -0.884644438369 ... -0.420716227434    -1.0340563499\n",
      "   -0.13147445421     1.02186113767 ...    1.9625387977 -0.0462994418797\n",
      "-0.00223995820554    0.588602544002 ...   1.93242466966  -0.487162383777\n",
      " 0.00925745729802   -0.256146472805 ...   1.35747843447   -1.27517282902\n",
      "    2.08638113925    -1.06145585245 ...  -1.50307673418  -0.277067856202\n",
      "   -2.69359589824    -1.07752263374 ... -0.890850332689 0.00930823428622\n",
      "Length = 118127 rows\n"
     ]
    }
   ],
   "source": [
    "original = astropy.io.ascii.read('data/starshp.dat', \n",
    "                            data_start=33,\n",
    "                            names=['ID', 'X', 'Y',\n",
    "                                   'Z', 'DX', 'DY', 'DZ', 'BV', 'AbsMag'])\n",
    "\n",
    "HipX = original['X']\n",
    "HipY = original['Y']\n",
    "HipZ = original['Z']\n",
    "\n",
    "hippRa, hippDec, hippDistance,hippLongitude,hippLatitude = toGalacticCoordinates(HipX,HipY,HipZ)\n",
    "\n",
    "hippGalactic=astropy.table.Table([hippRa,hippDec,hippDistance,hippLongitude,hippLatitude], names=['RA','Dec','Distance','Longitude','Latitude']) #make a table that has both Ra and Dec\n",
    "print hippGalactic"
   ]
  },
  {
   "cell_type": "code",
   "execution_count": 8,
   "metadata": {
    "collapsed": false
   },
   "outputs": [
    {
     "name": "stdout",
     "output_type": "stream",
     "text": [
      "118127\n",
      "118127\n"
     ]
    }
   ],
   "source": [
    "#separate each column to use on the graph\n",
    "hippRa = hippGalactic['RA']\n",
    "hippDec = hippGalactic['Dec']\n",
    "hippDistance = hippGalactic['Distance']\n",
    "hippLongitude = hippGalactic['Longitude']\n",
    "hippLatitude = hippGalactic['Latitude']\n",
    "print len(hippRa)\n",
    "print len(hippLatitude)"
   ]
  },
  {
   "cell_type": "markdown",
   "metadata": {},
   "source": [
    "#### now to find the duplicates. The following function will determine if the nth star is a duplicate. \n",
    "#### having a list of these duplicates I hope it is easier to eliminate them from the master list... "
   ]
  },
  {
   "cell_type": "code",
   "execution_count": 13,
   "metadata": {
    "collapsed": false
   },
   "outputs": [],
   "source": [
    "def findDuplicates(hippRaDec,gaiaRaDec):\n",
    "    \"\"\"\n",
    "    This function will go over the arrrays of stars from the HIPPARCOS and GAIA\n",
    "    catalogs and determine which stars are duplicates\n",
    "    \n",
    "    Parameters:\n",
    "    ----------------------------------\n",
    "    GaiaRaDec = array of the RA and DEC of the GAIA catalog\n",
    "    HipRaDec = array of the RA and DEC of the HIPPARCOS catalog\n",
    "    \n",
    "    Returns:\n",
    "    -----------------------------------\n",
    "    duplicates = array of the 'positions' of the stars in the GAIA arrays that \n",
    "    are repeats of the HIPPARCOS catalog\n",
    "    \"\"\"\n",
    "\n",
    "    duplicatesHipp= []\n",
    "    duplicatesGaia=[]\n",
    "    for i in range(118127):\n",
    "        \n",
    "        radius = (2.0/60.0/60.0)*(np.pi/180)\n",
    "        distance = np.sqrt((hippRaDec['Longitude'][i] - gaiaRaDec['Longitude'])**2 + (hippRaDec['Latitude'][i] - gaiaRaDec['Latitude'])**2 )\n",
    "        \n",
    "        threshold = radius \n",
    "        match = distance<threshold\n",
    "        \n",
    "#        print i,np.sum(match)\n",
    "\n",
    "        row=np.nonzero(match)[0]\n",
    "        if len(row)==0:\n",
    "            continue\n",
    "        if len(row)==1:       \n",
    "            duplicatesHipp = np.append(duplicatesHipp,i)\n",
    "            duplicatesGaia = np.append(duplicatesGaia,row)\n",
    "     \n",
    "        \n",
    "    \n",
    "    return duplicatesHipp, duplicatesGaia"
   ]
  },
  {
   "cell_type": "code",
   "execution_count": 14,
   "metadata": {
    "collapsed": false
   },
   "outputs": [
    {
     "name": "stdout",
     "output_type": "stream",
     "text": [
      "[  1.00000000e+00   3.00000000e+00   4.00000000e+00 ...,   1.18122000e+05\n",
      "   1.18125000e+05   1.18126000e+05]\n",
      "[  747611.   770684.  1317415. ...,   537969.  1401313.  1738081.]\n"
     ]
    }
   ],
   "source": [
    "duplicatesHipparcos, duplicatesGaia = findDuplicates(hippGalactic,gaiaGalactic)\n",
    "print duplicatesHipparcos\n",
    "print duplicatesGaia"
   ]
  },
  {
   "cell_type": "code",
   "execution_count": 61,
   "metadata": {
    "collapsed": false
   },
   "outputs": [
    {
     "name": "stdout",
     "output_type": "stream",
     "text": [
      "[  747611.   770684.  1317415. ...,   537969.  1401313.  1738081.]\n"
     ]
    }
   ],
   "source": [
    "len(duplicatesGaia)\n",
    "print duplicatesGaia"
   ]
  },
  {
   "cell_type": "markdown",
   "metadata": {},
   "source": [
    "## Putting it all together"
   ]
  },
  {
   "cell_type": "code",
   "execution_count": 40,
   "metadata": {
    "collapsed": true
   },
   "outputs": [],
   "source": [
    "def eliminateDuplicates(duplicates,Gaia):\n",
    "    \"\"\"\n",
    "    This function eliminates the stars on the GAIA array tht are repeated on the \n",
    "    hipparcos catalog\n",
    "    \n",
    "    Parameters:\n",
    "    ------------------------------------\n",
    "    duplicates = array of the 'positions' of the duplicates in the gaia catalog\n",
    "    Gaia= \n",
    "    \n",
    "    Returns:\n",
    "    -------------------------------------\n",
    "    GaiaNoDuplicates: array of the positions of the stars from the Gaia catalog\n",
    "    without the stars that HIPPARCOS already mapped\n",
    "    \"\"\"\n",
    "    \n",
    "    GaiaNoDuplicates = np.delete(Gaia,duplicates)\n",
    "    \n",
    "    return GaiaNoDuplicates"
   ]
  },
  {
   "cell_type": "code",
   "execution_count": 16,
   "metadata": {
    "collapsed": false
   },
   "outputs": [
    {
     "name": "stdout",
     "output_type": "stream",
     "text": [
      "['data/TgasSource_000-000-000.fits', 'data/TgasSource_000-000-001.fits', 'data/TgasSource_000-000-002.fits', 'data/TgasSource_000-000-003.fits', 'data/TgasSource_000-000-004.fits', 'data/TgasSource_000-000-005.fits', 'data/TgasSource_000-000-006.fits', 'data/TgasSource_000-000-007.fits', 'data/TgasSource_000-000-008.fits', 'data/TgasSource_000-000-009.fits', 'data/TgasSource_000-000-010.fits', 'data/TgasSource_000-000-011.fits', 'data/TgasSource_000-000-012.fits', 'data/TgasSource_000-000-013.fits', 'data/TgasSource_000-000-014.fits', 'data/TgasSource_000-000-015.fits']\n"
     ]
    }
   ],
   "source": [
    "from glob import glob\n",
    "filenames = glob('data/TgasSource_000-000-*.fits')\n",
    "print filenames\n",
    "X, Y, Z, AbsoluteMagnitudes = np.array([]), np.array([]), np.array([]), np.array([])\n",
    "for f in filenames:\n",
    "    XX,YY,ZZ,RA,Dec,Magnitudes,Distances,AB,Fluxes,label =load.extractStars(f)\n",
    "    X = np.append(X, XX)\n",
    "    Y = np.append(Y, YY)\n",
    "    Z = np.append(Z, ZZ)\n",
    "    AbsoluteMagnitudes = np.append(AbsoluteMagnitudes, AB)"
   ]
  },
  {
   "cell_type": "code",
   "execution_count": 18,
   "metadata": {
    "collapsed": true
   },
   "outputs": [],
   "source": [
    "ID = np.arange(len(X))+1000000\n",
    "DX = np.zeros_like(X)\n",
    "DY = np.zeros_like(X)\n",
    "DZ = np.zeros_like(X)\n",
    "BV = np.zeros_like(X)\n",
    "\n",
    "au_per_pc = 180/np.pi*60*60\n",
    "X /= au_per_pc\n",
    "Y /= au_per_pc\n",
    "Z /= au_per_pc\n",
    "\n",
    "gaia = astropy.table.Table([ID, X, Y, Z, DX, DY, DZ, BV, AbsoluteMagnitudes],\n",
    "        names=['ID', 'X', 'Y', 'Z', 'DX', 'DY', 'DZ', 'BV', 'AbsMag'])"
   ]
  },
  {
   "cell_type": "code",
   "execution_count": 46,
   "metadata": {
    "collapsed": false
   },
   "outputs": [
    {
     "data": {
      "text/html": [
       "&lt;Table length=2057050&gt;\n",
       "<table id=\"table4361914192\" class=\"table-striped table-bordered table-condensed\">\n",
       "<thead><tr><th>ID</th><th>X</th><th>Y</th><th>Z</th><th>DX</th><th>DY</th><th>DZ</th><th>BV</th><th>AbsMag</th></tr></thead>\n",
       "<thead><tr><th>int64</th><th>float64</th><th>float64</th><th>float64</th><th>float64</th><th>float64</th><th>float64</th><th>float64</th><th>float64</th></tr></thead>\n",
       "<tr><td>1000000</td><td>-103.691205916</td><td>5.90540934678</td><td>-118.280502087</td><td>0.0</td><td>0.0</td><td>0.0</td><td>0.0</td><td>2.00625527293</td></tr>\n",
       "<tr><td>1000001</td><td>-169.15646867</td><td>9.11255329466</td><td>-192.453062061</td><td>0.0</td><td>0.0</td><td>0.0</td><td>0.0</td><td>3.53646489334</td></tr>\n",
       "<tr><td>1000002</td><td>-208.974760259</td><td>11.7551949843</td><td>-237.977507806</td><td>0.0</td><td>0.0</td><td>0.0</td><td>0.0</td><td>3.23831476566</td></tr>\n",
       "<tr><td>1000003</td><td>-287.553378917</td><td>16.2760155057</td><td>-327.635573262</td><td>0.0</td><td>0.0</td><td>0.0</td><td>0.0</td><td>2.87710297779</td></tr>\n",
       "<tr><td>1000004</td><td>-417.556587541</td><td>23.7896232892</td><td>-473.926483361</td><td>0.0</td><td>0.0</td><td>0.0</td><td>0.0</td><td>1.16483881112</td></tr>\n",
       "<tr><td>1000005</td><td>-76.2853655393</td><td>4.37435914773</td><td>-86.5219192078</td><td>0.0</td><td>0.0</td><td>0.0</td><td>0.0</td><td>4.66035099753</td></tr>\n",
       "<tr><td>1000006</td><td>-116.037704631</td><td>6.68798802294</td><td>-131.486204158</td><td>0.0</td><td>0.0</td><td>0.0</td><td>0.0</td><td>3.65268601718</td></tr>\n",
       "<tr><td>1000007</td><td>-316.02824329</td><td>18.4155671081</td><td>-358.52706391</td><td>0.0</td><td>0.0</td><td>0.0</td><td>0.0</td><td>2.16261732713</td></tr>\n",
       "<tr><td>1000008</td><td>-106.323787556</td><td>6.33676232117</td><td>-121.032081067</td><td>0.0</td><td>0.0</td><td>0.0</td><td>0.0</td><td>3.93353028549</td></tr>\n",
       "<tr><td>1000009</td><td>-393.482972495</td><td>24.6240936872</td><td>-447.0531894</td><td>0.0</td><td>0.0</td><td>0.0</td><td>0.0</td><td>0.913894940154</td></tr>\n",
       "<tr><td>...</td><td>...</td><td>...</td><td>...</td><td>...</td><td>...</td><td>...</td><td>...</td><td>...</td></tr>\n",
       "<tr><td>3057040</td><td>24.6003427771</td><td>27.9960210428</td><td>-20.5385472556</td><td>0.0</td><td>0.0</td><td>0.0</td><td>0.0</td><td>6.88456413473</td></tr>\n",
       "<tr><td>3057041</td><td>96.1865811349</td><td>107.983671091</td><td>-78.2312442787</td><td>0.0</td><td>0.0</td><td>0.0</td><td>0.0</td><td>2.92086953091</td></tr>\n",
       "<tr><td>3057042</td><td>43.0944792715</td><td>47.6905324879</td><td>-34.4199392326</td><td>0.0</td><td>0.0</td><td>0.0</td><td>0.0</td><td>5.5245813802</td></tr>\n",
       "<tr><td>3057043</td><td>73.5254656745</td><td>82.5843462379</td><td>-59.5458456524</td><td>0.0</td><td>0.0</td><td>0.0</td><td>0.0</td><td>4.92411956542</td></tr>\n",
       "<tr><td>3057044</td><td>584655.331215</td><td>658061.298565</td><td>-474482.318968</td><td>0.0</td><td>0.0</td><td>0.0</td><td>0.0</td><td>-16.7365664064</td></tr>\n",
       "<tr><td>3057045</td><td>115.35002897</td><td>129.718406064</td><td>-93.2983527622</td><td>0.0</td><td>0.0</td><td>0.0</td><td>0.0</td><td>2.51573560955</td></tr>\n",
       "<tr><td>3057046</td><td>344.814247351</td><td>388.291039969</td><td>-277.538130792</td><td>0.0</td><td>0.0</td><td>0.0</td><td>0.0</td><td>1.47475812664</td></tr>\n",
       "<tr><td>3057047</td><td>95.8184497492</td><td>109.262045107</td><td>-79.4954155859</td><td>0.0</td><td>0.0</td><td>0.0</td><td>0.0</td><td>3.14293577891</td></tr>\n",
       "<tr><td>3057048</td><td>393.289349398</td><td>445.231209967</td><td>-317.939301387</td><td>0.0</td><td>0.0</td><td>0.0</td><td>0.0</td><td>-0.125552928234</td></tr>\n",
       "<tr><td>3057049</td><td>216.828500609</td><td>246.637550736</td><td>-177.124190155</td><td>0.0</td><td>0.0</td><td>0.0</td><td>0.0</td><td>1.87333535958</td></tr>\n",
       "</table>"
      ],
      "text/plain": [
       "<Table length=2057050>\n",
       "   ID         X              Y       ...    DZ      BV        AbsMag    \n",
       " int64     float64        float64    ... float64 float64     float64    \n",
       "------- -------------- ------------- ... ------- ------- ---------------\n",
       "1000000 -103.691205916 5.90540934678 ...     0.0     0.0   2.00625527293\n",
       "1000001  -169.15646867 9.11255329466 ...     0.0     0.0   3.53646489334\n",
       "1000002 -208.974760259 11.7551949843 ...     0.0     0.0   3.23831476566\n",
       "1000003 -287.553378917 16.2760155057 ...     0.0     0.0   2.87710297779\n",
       "1000004 -417.556587541 23.7896232892 ...     0.0     0.0   1.16483881112\n",
       "1000005 -76.2853655393 4.37435914773 ...     0.0     0.0   4.66035099753\n",
       "1000006 -116.037704631 6.68798802294 ...     0.0     0.0   3.65268601718\n",
       "1000007  -316.02824329 18.4155671081 ...     0.0     0.0   2.16261732713\n",
       "1000008 -106.323787556 6.33676232117 ...     0.0     0.0   3.93353028549\n",
       "1000009 -393.482972495 24.6240936872 ...     0.0     0.0  0.913894940154\n",
       "    ...            ...           ... ...     ...     ...             ...\n",
       "3057040  24.6003427771 27.9960210428 ...     0.0     0.0   6.88456413473\n",
       "3057041  96.1865811349 107.983671091 ...     0.0     0.0   2.92086953091\n",
       "3057042  43.0944792715 47.6905324879 ...     0.0     0.0    5.5245813802\n",
       "3057043  73.5254656745 82.5843462379 ...     0.0     0.0   4.92411956542\n",
       "3057044  584655.331215 658061.298565 ...     0.0     0.0  -16.7365664064\n",
       "3057045   115.35002897 129.718406064 ...     0.0     0.0   2.51573560955\n",
       "3057046  344.814247351 388.291039969 ...     0.0     0.0   1.47475812664\n",
       "3057047  95.8184497492 109.262045107 ...     0.0     0.0   3.14293577891\n",
       "3057048  393.289349398 445.231209967 ...     0.0     0.0 -0.125552928234\n",
       "3057049  216.828500609 246.637550736 ...     0.0     0.0   1.87333535958"
      ]
     },
     "execution_count": 46,
     "metadata": {},
     "output_type": "execute_result"
    }
   ],
   "source": [
    "#read in the Gaia table\n",
    "gaia"
   ]
  },
  {
   "cell_type": "code",
   "execution_count": 44,
   "metadata": {
    "collapsed": false
   },
   "outputs": [
    {
     "name": "stdout",
     "output_type": "stream",
     "text": [
      "2057050\n",
      "81506\n",
      "1975552\n"
     ]
    },
    {
     "data": {
      "text/plain": [
       "1975544"
      ]
     },
     "execution_count": 44,
     "metadata": {},
     "output_type": "execute_result"
    }
   ],
   "source": [
    "#eliminate duplicates previously found from gaia table \n",
    "gaiaNoDuplicates = eliminateDuplicates(duplicatesGaia,gaia)\n",
    "print len(gaia)\n",
    "print len(duplicatesGaia)\n",
    "print len(gaiaNoDuplicates)\n",
    "\n",
    "#make sure it all worked out as expected \n",
    "2057050-81506"
   ]
  },
  {
   "cell_type": "code",
   "execution_count": 63,
   "metadata": {
    "collapsed": false
   },
   "outputs": [
    {
     "name": "stdout",
     "output_type": "stream",
     "text": [
      "(1000002, -208.97476025945355, 11.755194984318436, -237.97750780631785, 0.0, 0.0, 0.0, 0.0, 3.2383147656594247)\n"
     ]
    }
   ],
   "source": [
    "gaia\n",
    "gaiaNoDuplicates.shape\n",
    "print gaiaNoDuplicates[1]"
   ]
  },
  {
   "cell_type": "code",
   "execution_count": 79,
   "metadata": {
    "collapsed": false
   },
   "outputs": [
    {
     "name": "stdout",
     "output_type": "stream",
     "text": [
      "   ID         X              Y             Z         DX  DY  DZ  BV     AbsMag   \n",
      "------- -------------- ------------- -------------- --- --- --- --- -------------\n",
      "1000002 -208.974760259 11.7551949843 -237.977507806 0.0 0.0 0.0 0.0 3.23831476566\n"
     ]
    }
   ],
   "source": [
    "gaia2 = astropy.table.Table(gaiaNoDuplicates)\n",
    "print gaia2[1]\n"
   ]
  },
  {
   "cell_type": "code",
   "execution_count": 80,
   "metadata": {
    "collapsed": false
   },
   "outputs": [
    {
     "data": {
      "text/html": [
       "&lt;Table length=118127&gt;\n",
       "<table id=\"table4532947280\" class=\"table-striped table-bordered table-condensed\">\n",
       "<thead><tr><th>ID</th><th>X</th><th>Y</th><th>Z</th><th>DX</th><th>DY</th><th>DZ</th><th>BV</th><th>AbsMag</th></tr></thead>\n",
       "<thead><tr><th>int64</th><th>float64</th><th>float64</th><th>float64</th><th>float64</th><th>float64</th><th>float64</th><th>float64</th><th>float64</th></tr></thead>\n",
       "<tr><td>0</td><td>0.0</td><td>0.0</td><td>0.0</td><td>0.0</td><td>0.0</td><td>0.0</td><td>0.65</td><td>4.85</td></tr>\n",
       "<tr><td>1</td><td>-14.0824128361</td><td>111.6945222</td><td>-188.757422322</td><td>-8.9884064873</td><td>112.604261434</td><td>-188.599141107</td><td>0.482</td><td>2.3900569807</td></tr>\n",
       "<tr><td>2</td><td>5.2618026678</td><td>10.3792208295</td><td>-46.5285206327</td><td>-31.3895667842</td><td>-7.926226517</td><td>-54.7571044629</td><td>0.999</td><td>5.8655302939</td></tr>\n",
       "<tr><td>3</td><td>-153.253731518</td><td>377.606775432</td><td>-172.374848039</td><td>-158.752690605</td><td>371.5328946</td><td>-180.791411009</td><td>-0.019</td><td>-1.6194578069</td></tr>\n",
       "<tr><td>4</td><td>46.5458846151</td><td>-37.9716587477</td><td>-120.036828652</td><td>10.6393506474</td><td>-55.8865650927</td><td>-128.293106111</td><td>0.37</td><td>2.4207813611</td></tr>\n",
       "<tr><td>5</td><td>70.3671705226</td><td>-28.5762954143</td><td>-246.287676062</td><td>64.5003801122</td><td>-20.205877073</td><td>-248.935092183</td><td>0.902</td><td>1.4941586254</td></tr>\n",
       "<tr><td>6</td><td>-4.8612667845</td><td>29.9506564346</td><td>-45.9158209056</td><td>-55.5815795019</td><td>0.4301933234</td><td>-59.8026269518</td><td>1.336</td><td>8.6067746339</td></tr>\n",
       "<tr><td>7</td><td>-12.5947732344</td><td>41.6648961519</td><td>-38.1365075982</td><td>61.1169367029</td><td>39.3079294323</td><td>-73.0290308672</td><td>0.74</td><td>5.8277186881</td></tr>\n",
       "<tr><td>8</td><td>-52.4058018307</td><td>154.711664307</td><td>-116.789562715</td><td>-51.3484019722</td><td>138.633667386</td><td>-108.574246066</td><td>1.102</td><td>2.5361467112</td></tr>\n",
       "<tr><td>9</td><td>-139.86331237</td><td>353.67816175</td><td>-178.581121326</td><td>-133.430549584</td><td>365.550903293</td><td>-160.105387238</td><td>1.067</td><td>0.4728847827</td></tr>\n",
       "<tr><td>...</td><td>...</td><td>...</td><td>...</td><td>...</td><td>...</td><td>...</td><td>...</td><td>...</td></tr>\n",
       "<tr><td>706827</td><td>155.2835</td><td>936.4201</td><td>-314.6496</td><td>157.9182</td><td>952.2504</td><td>-321.4928</td><td>0.36</td><td>-3.92</td></tr>\n",
       "<tr><td>709791</td><td>-275.9398</td><td>952.5812</td><td>128.2429</td><td>-275.6373</td><td>949.4853</td><td>127.9661</td><td>0.54</td><td>-3.56</td></tr>\n",
       "<tr><td>712698</td><td>422.734</td><td>388.0848</td><td>-818.9543</td><td>419.2927</td><td>385.4704</td><td>-814.4767</td><td>0.61</td><td>-3.65</td></tr>\n",
       "<tr><td>713052</td><td>287.5876</td><td>628.107</td><td>-723.0318</td><td>294.0046</td><td>644.0968</td><td>-741.9508</td><td>0.38</td><td>-5.58</td></tr>\n",
       "<tr><td>718269</td><td>466.7468</td><td>-208.8374</td><td>-859.3802</td><td>468.7916</td><td>-209.738</td><td>-862.811</td><td>0.48</td><td>-4.17</td></tr>\n",
       "<tr><td>721237</td><td>-381.3903</td><td>923.2547</td><td>-46.2829</td><td>-379.8618</td><td>919.4647</td><td>-46.0946</td><td>0.02</td><td>-2.92</td></tr>\n",
       "<tr><td>724636</td><td>-312.6386</td><td>826.5111</td><td>-468.1203</td><td>-310.6839</td><td>822.2576</td><td>-466.012</td><td>0.0</td><td>-3.42</td></tr>\n",
       "<tr><td>724960</td><td>61.677</td><td>284.7329</td><td>-956.6207</td><td>62.5826</td><td>288.4615</td><td>-969.3506</td><td>1.8</td><td>-2.9</td></tr>\n",
       "<tr><td>750043</td><td>65.0871</td><td>-959.6569</td><td>-273.5365</td><td>66.4745</td><td>-981.2705</td><td>-279.6337</td><td>1.28</td><td>-3.31</td></tr>\n",
       "<tr><td>752421</td><td>628.7238</td><td>-777.573</td><td>9.3081</td><td>622.9071</td><td>-770.4405</td><td>9.1708</td><td>0.27</td><td>-3.2</td></tr>\n",
       "</table>"
      ],
      "text/plain": [
       "<Table length=118127>\n",
       "  ID         X              Y        ...       DZ          BV       AbsMag   \n",
       "int64     float64        float64     ...    float64     float64    float64   \n",
       "------ -------------- -------------- ... -------------- ------- -------------\n",
       "     0            0.0            0.0 ...            0.0    0.65          4.85\n",
       "     1 -14.0824128361    111.6945222 ... -188.599141107   0.482  2.3900569807\n",
       "     2   5.2618026678  10.3792208295 ... -54.7571044629   0.999  5.8655302939\n",
       "     3 -153.253731518  377.606775432 ... -180.791411009  -0.019 -1.6194578069\n",
       "     4  46.5458846151 -37.9716587477 ... -128.293106111    0.37  2.4207813611\n",
       "     5  70.3671705226 -28.5762954143 ... -248.935092183   0.902  1.4941586254\n",
       "     6  -4.8612667845  29.9506564346 ... -59.8026269518   1.336  8.6067746339\n",
       "     7 -12.5947732344  41.6648961519 ... -73.0290308672    0.74  5.8277186881\n",
       "     8 -52.4058018307  154.711664307 ... -108.574246066   1.102  2.5361467112\n",
       "     9  -139.86331237   353.67816175 ... -160.105387238   1.067  0.4728847827\n",
       "   ...            ...            ... ...            ...     ...           ...\n",
       "706827       155.2835       936.4201 ...      -321.4928    0.36         -3.92\n",
       "709791      -275.9398       952.5812 ...       127.9661    0.54         -3.56\n",
       "712698        422.734       388.0848 ...      -814.4767    0.61         -3.65\n",
       "713052       287.5876        628.107 ...      -741.9508    0.38         -5.58\n",
       "718269       466.7468      -208.8374 ...       -862.811    0.48         -4.17\n",
       "721237      -381.3903       923.2547 ...       -46.0946    0.02         -2.92\n",
       "724636      -312.6386       826.5111 ...       -466.012     0.0         -3.42\n",
       "724960         61.677       284.7329 ...      -969.3506     1.8          -2.9\n",
       "750043        65.0871      -959.6569 ...      -279.6337    1.28         -3.31\n",
       "752421       628.7238       -777.573 ...         9.1708    0.27          -3.2"
      ]
     },
     "execution_count": 80,
     "metadata": {},
     "output_type": "execute_result"
    }
   ],
   "source": [
    "#read in the original table\n",
    "original"
   ]
  },
  {
   "cell_type": "code",
   "execution_count": 85,
   "metadata": {
    "collapsed": false
   },
   "outputs": [],
   "source": [
    "combined = astropy.table.vstack([original,gaia2])"
   ]
  },
  {
   "cell_type": "code",
   "execution_count": 86,
   "metadata": {
    "collapsed": true
   },
   "outputs": [],
   "source": [
    "# write out the table\n",
    "astropy.io.ascii.write(combined, 'CombinedNoDuplicates.dat',\n",
    "                       format='fixed_width',\n",
    "                       delimiter='\\t')#,overwrite=True)"
   ]
  },
  {
   "cell_type": "code",
   "execution_count": 89,
   "metadata": {
    "collapsed": true
   },
   "outputs": [],
   "source": [
    "# this trims the astropy header off the file\n",
    "!tail +2 CombinedNoDuplicates.dat > CombinedNDwOheader.dat"
   ]
  },
  {
   "cell_type": "code",
   "execution_count": 90,
   "metadata": {
    "collapsed": true
   },
   "outputs": [],
   "source": [
    "# combine the prefix and the header together\n",
    "!cat prefix.dat CombinedNDwOheader.dat > CombinedNoDuplicates.dat"
   ]
  },
  {
   "cell_type": "markdown",
   "metadata": {},
   "source": [
    "#### In the next cells, I will create graohs that will help me determine if the above calculations are correct. \n",
    "#### If all goes well, a graph of the coordinates will show the hipparcos, Gaia and duplicates in different colors and it will be clear which stars need to be eliminated. "
   ]
  },
  {
   "cell_type": "code",
   "execution_count": null,
   "metadata": {
    "collapsed": false
   },
   "outputs": [],
   "source": [
    "plt.scatter(gaiaLongitude,gaiaLatitude,alpha=0.1,color='r')\n",
    "plt.scatter(hippLongitude,hippLatitude,alpha=0.1)\n",
    "plt.show"
   ]
  },
  {
   "cell_type": "code",
   "execution_count": null,
   "metadata": {
    "collapsed": false
   },
   "outputs": [],
   "source": [
    "#plt.figure(figsize=(9,9))\n",
    "plt.title('Dec vs Ra')\n",
    "plt.scatter(gaiaDec,gaiaRa, alpha=0.1)\n",
    "plt.xlabel('latitude')\n",
    "plt.ylabel('longitude')"
   ]
  },
  {
   "cell_type": "code",
   "execution_count": null,
   "metadata": {
    "collapsed": false
   },
   "outputs": [],
   "source": [
    "#plt.figure(figsize=(9,9))\n",
    "plt.title('Ra vs Dec')\n",
    "plt.scatter(gaiaRa,gaiaDec,color='magenta',alpha=0.01,s=0.5)\n",
    "plt.scatter(hippRa,hippDec, edgecolor='none', alpha=0.01)\n",
    "#plt.scatter(duplicatesRa,duplicatesDec,color='red')\n",
    "\n",
    "plt.xlabel('latitude')\n",
    "plt.ylabel('longitude')"
   ]
  },
  {
   "cell_type": "code",
   "execution_count": null,
   "metadata": {
    "collapsed": false
   },
   "outputs": [],
   "source": [
    "plt.scatter(gaiaDistance,gaiaDec,color='cyan')\n"
   ]
  },
  {
   "cell_type": "markdown",
   "metadata": {},
   "source": [
    "#### The most important thing accomplished above is the list of nth positions that a re duplicates.\n",
    "#### This very important function below will be transfered to a module and used on MergeHIPandGaia before the two files are merged but after the master list for GAIA has been created.\n"
   ]
  },
  {
   "cell_type": "code",
   "execution_count": null,
   "metadata": {
    "collapsed": true
   },
   "outputs": [],
   "source": [
    "def eliminateDuplicates(duplicates,Gaia):\n",
    "    \"\"\"\n",
    "    This function eliminates the stars on the GAIA array tht are repeated on the \n",
    "    hipparcos catalog\n",
    "    \n",
    "    Parameters:\n",
    "    ------------------------------------\n",
    "    duplicates = array of the 'positions' of the duplicates in the gaia catalog\n",
    "    Gaia= \n",
    "    \n",
    "    Returns:\n",
    "    -------------------------------------\n",
    "    GaiaNoDuplicates: array of the positions of the stars from the Gaia catalog\n",
    "    without the stars that HIPPARCOS already mapped\n",
    "    \"\"\"\n",
    "    \n",
    "    numpy.delete(Gaia,duplicates)\n",
    "    \n",
    "    return GaiaNoDuplicates"
   ]
  },
  {
   "cell_type": "code",
   "execution_count": 37,
   "metadata": {
    "collapsed": false
   },
   "outputs": [
    {
     "name": "stdout",
     "output_type": "stream",
     "text": [
      "[ 1  2  3  4  5  6  7  8  9 10 11 12 13 14 15 16 17 18 19 20]\n"
     ]
    }
   ],
   "source": [
    "# make sure you understand how np.delete works\n",
    "oktl = np.arange(1,21)\n",
    "print oktl"
   ]
  },
  {
   "cell_type": "code",
   "execution_count": 38,
   "metadata": {
    "collapsed": false
   },
   "outputs": [],
   "source": [
    "deletees = np.array([0,1,4])\n",
    "oktl2 = np.delete(oktl,deletees)"
   ]
  },
  {
   "cell_type": "code",
   "execution_count": 39,
   "metadata": {
    "collapsed": false
   },
   "outputs": [
    {
     "name": "stdout",
     "output_type": "stream",
     "text": [
      "[ 3  4  6  7  8  9 10 11 12 13 14 15 16 17 18 19 20]\n"
     ]
    }
   ],
   "source": [
    "print oktl2"
   ]
  },
  {
   "cell_type": "code",
   "execution_count": null,
   "metadata": {
    "collapsed": true
   },
   "outputs": [],
   "source": []
  }
 ],
 "metadata": {
  "anaconda-cloud": {},
  "kernelspec": {
   "display_name": "Python [default]",
   "language": "python",
   "name": "python2"
  },
  "language_info": {
   "codemirror_mode": {
    "name": "ipython",
    "version": 2
   },
   "file_extension": ".py",
   "mimetype": "text/x-python",
   "name": "python",
   "nbconvert_exporter": "python",
   "pygments_lexer": "ipython2",
   "version": "2.7.12"
  }
 },
 "nbformat": 4,
 "nbformat_minor": 1
}
