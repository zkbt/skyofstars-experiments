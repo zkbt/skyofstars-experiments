{
 "cells": [
  {
   "cell_type": "markdown",
   "metadata": {},
   "source": [
    "### In this notebook:\n",
    "#### Functions to eliminate duplicates that happen when the HIPPARCOS and GAIA star catalogs get combined"
   ]
  },
  {
   "cell_type": "code",
   "execution_count": 14,
   "metadata": {
    "collapsed": false
   },
   "outputs": [],
   "source": [
    "import numpy as np\n",
    "import matplotlib.pyplot as plt\n",
    "%matplotlib notebook\n",
    "import astropy.io.ascii as a\n",
    "import astropy.table\n",
    "import FunctionsToLoadGaia as load\n",
    "import FunctionsForGaia as f\n",
    "from math import pi"
   ]
  },
  {
   "cell_type": "code",
   "execution_count": 32,
   "metadata": {
    "collapsed": false
   },
   "outputs": [],
   "source": [
    "def extractRaDec(filename):\n",
    "    \n",
    "    hdu = astropy.io.fits.open(filename)\n",
    "    table = astropy.table.Table(hdu[1].data)\n",
    "    dec = (table['dec'].data)*(pi/180) #change degrees to radians.\n",
    "    \n",
    "    RA = (table['ra'].data)\n",
    "    over180 = RA > 180 #want RA values to be from -180 to 180\n",
    "    RA[over180] = (RA[over180] - 360)\n",
    "    ra = RA*(pi/180) #change degrees to radians.\n",
    "    \n",
    "    return ra, dec"
   ]
  },
  {
   "cell_type": "code",
   "execution_count": 33,
   "metadata": {
    "collapsed": false
   },
   "outputs": [],
   "source": [
    "from glob import glob\n",
    "filenames = glob('data/TgasSource_000-000-*.fits')\n",
    "\n",
    "RA,DEC = np.array([]), np.array([])\n",
    "for f in filenames:\n",
    "    ra,dec = extractRaDec(f)\n",
    "    RA = np.append(RA,ra)\n",
    "    DEC = np.append(DEC,dec)\n",
    "\n",
    "GaiaRaDec=astropy.table.Table([RA,DEC], names=['RightAscension','Declination'])"
   ]
  },
  {
   "cell_type": "code",
   "execution_count": 4,
   "metadata": {
    "collapsed": true
   },
   "outputs": [],
   "source": [
    "def findRaDec(Hipparcos):\n",
    "    return HipRaDec"
   ]
  },
  {
   "cell_type": "code",
   "execution_count": 34,
   "metadata": {
    "collapsed": false
   },
   "outputs": [
    {
     "ename": "SyntaxError",
     "evalue": "can't assign to function call (<ipython-input-34-690c6a806d0e>, line 24)",
     "output_type": "error",
     "traceback": [
      "\u001b[0;36m  File \u001b[0;32m\"<ipython-input-34-690c6a806d0e>\"\u001b[0;36m, line \u001b[0;32m24\u001b[0m\n\u001b[0;31m    np.nonzero(match)=[]\u001b[0m\n\u001b[0;31mSyntaxError\u001b[0m\u001b[0;31m:\u001b[0m can't assign to function call\n"
     ]
    }
   ],
   "source": [
    "def findDuplicates(HipRaDec,GaiaRaDec):\n",
    "    \"\"\"\n",
    "    This function will go over the arrrays of stars from the HIPPARCOS and GAIA\n",
    "    catalogs and determine which stars are duplicates\n",
    "    \n",
    "    Parameters:\n",
    "    ----------------------------------\n",
    "    GaiaRaDec = array of the RA and DEC of the GAIA catalog\n",
    "    HipRaDec = array of the RA and DEC of the HIPPARCOS catalog\n",
    "    \n",
    "    Returns:\n",
    "    -----------------------------------\n",
    "    duplicates = array of the 'positions' of the stars in the GAIA arrays that \n",
    "    are repeats of the HIPPARCOS catalog\n",
    "    \"\"\"\n",
    "    \n",
    "    for i in range(len(original)):\n",
    "        ora=HipRaDec['RA'][i]\n",
    "        odec=HipRaDec['DEC'][i]\n",
    "        distance = (GaiaRADec-ora)**2\n",
    "        match = distance<threshold\n",
    "        ioverlap = np.nonzero(match)\n",
    "        match=[F,F,F,F]\n",
    "        np.nonzero(match)=[]\n",
    "    \n",
    "    \n",
    "    return duplicates"
   ]
  },
  {
   "cell_type": "code",
   "execution_count": 3,
   "metadata": {
    "collapsed": true
   },
   "outputs": [],
   "source": [
    "def eliminateDuplicates(duplicates,Gaia):\n",
    "    \"\"\"\n",
    "    This function eliminates the stars on the GAIA array tht are repeated on the \n",
    "    hipparcos catalog\n",
    "    \n",
    "    Parameters:\n",
    "    ------------------------------------\n",
    "    duplicates = array of the 'positions' of the duplicates in the gaia catalog\n",
    "    Gaia= \n",
    "    \n",
    "    Returns:\n",
    "    -------------------------------------\n",
    "    GaiaNoDuplicates: array of the positions of the stars from the Gaia catalog\n",
    "    without the stars that HIPPARCOS already mapped\n",
    "    \"\"\"\n",
    "    \n",
    "    return GaiaNoDuplicates"
   ]
  },
  {
   "cell_type": "code",
   "execution_count": null,
   "metadata": {
    "collapsed": true
   },
   "outputs": [],
   "source": []
  }
 ],
 "metadata": {
  "anaconda-cloud": {},
  "kernelspec": {
   "display_name": "Python [default]",
   "language": "python",
   "name": "python2"
  },
  "language_info": {
   "codemirror_mode": {
    "name": "ipython",
    "version": 2
   },
   "file_extension": ".py",
   "mimetype": "text/x-python",
   "name": "python",
   "nbconvert_exporter": "python",
   "pygments_lexer": "ipython2",
   "version": "2.7.12"
  }
 },
 "nbformat": 4,
 "nbformat_minor": 1
}
