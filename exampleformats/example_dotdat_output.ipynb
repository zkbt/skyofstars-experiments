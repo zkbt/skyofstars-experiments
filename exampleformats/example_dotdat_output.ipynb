{
 "cells": [
  {
   "cell_type": "code",
   "execution_count": 26,
   "metadata": {
    "collapsed": false
   },
   "outputs": [],
   "source": [
    "'''\n",
    "This is just a demo of what the table needs to look \n",
    "like before you write it out to a text file. \n",
    "\n",
    "Replace the X, Y, Z, and AbsMag with values you calculated!\n",
    "'''\n",
    "\n",
    "import astropy.io.ascii, astropy.table\n",
    "import numpy as np\n",
    "\n",
    "N = 100\n",
    "\n",
    "# ID is just some integer number identifying the star\n",
    "ID = np.arange(N)\n",
    "\n",
    "# X, Y, Z are the 3D positions, in parsecs (?)\n",
    "X = np.random.random(N)\n",
    "Y = np.random.random(N)\n",
    "Z = np.random.random(N)\n",
    "\n",
    "# DX, DY, DZ are the 3d space motions, which we'll say are 0 (in unknown units)\n",
    "DX = np.zeros_like(X)\n",
    "DY = np.zeros_like(X)\n",
    "DZ = np.zeros_like(X)\n",
    "\n",
    "# BV is the B-V color of the stars (we'll say 0, for now)\n",
    "BV = np.zeros_like(X)\n",
    "\n",
    "# AbsMag is the absolute magnitude of the star\n",
    "AbsMag = np.random.uniform(5, 15, N)\n",
    "\n",
    "\n",
    "table = astropy.table.Table([ID, X, Y, Z, DX, DY, DZ, BV, AbsMag],\n",
    "        names=['ID', 'X', 'Y', 'Z', 'DX', 'DY', 'DZ', 'BV', 'AbsMag'])\n",
    "\n",
    "\n",
    "                          \n",
    "# write out the table\n",
    "astropy.io.ascii.write(table, 'testoutput.dat', \n",
    "                       format='fixed_width', \n",
    "                       delimiter='\\t',\n",
    "                       overwrite=True)"
   ]
  },
  {
   "cell_type": "code",
   "execution_count": 27,
   "metadata": {
    "collapsed": false
   },
   "outputs": [],
   "source": [
    "!open ."
   ]
  },
  {
   "cell_type": "code",
   "execution_count": null,
   "metadata": {
    "collapsed": true
   },
   "outputs": [],
   "source": []
  }
 ],
 "metadata": {
  "kernelspec": {
   "display_name": "Python 2",
   "language": "python",
   "name": "python2"
  },
  "language_info": {
   "codemirror_mode": {
    "name": "ipython",
    "version": 2
   },
   "file_extension": ".py",
   "mimetype": "text/x-python",
   "name": "python",
   "nbconvert_exporter": "python",
   "pygments_lexer": "ipython2",
   "version": "2.7.13"
  }
 },
 "nbformat": 4,
 "nbformat_minor": 2
}
