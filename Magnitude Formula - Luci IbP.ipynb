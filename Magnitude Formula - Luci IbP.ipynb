{
 "cells": [
  {
   "cell_type": "markdown",
   "metadata": {},
   "source": []
  },
  {
   "cell_type": "code",
   "execution_count": 1,
   "metadata": {
    "collapsed": true
   },
   "outputs": [],
   "source": [
    "import numpy as np\n",
    "%matplotlib inline\n",
    "import matplotlib.pyplot as plt"
   ]
  },
  {
   "cell_type": "code",
   "execution_count": 7,
   "metadata": {
    "collapsed": true
   },
   "outputs": [],
   "source": [
    "#Need to read the file into numpy arrays\n",
    "\n",
    "def read4col(filename):\n",
    "    '''read a file that has 4 columns of data'''\n",
    "    w,x,y,z = [],[],[],[] #create empty lists to store contents\n",
    "    \n",
    "    with open(filename, 'r') as f: # open the file\n",
    "        lines = f.readlines() # read the lines into a list\n",
    "        for line in lines: # loop over those lines\n",
    "            \n",
    "            elements = line.split('') # split each line where there is a coma\n",
    "\n",
    "            # skip empty lines, or ones that contain '#'\n",
    "            if (len(elements) == 0) or (\"#\" in elements[0]):\n",
    "                continue \n",
    "                \n",
    "            # make sure elements are floats and then put them on the proper lists\n",
    "            w.append(float(elements[0]))\n",
    "            x.append(float(elements[1]))\n",
    "            y.append(float(elements[2]))\n",
    "            z.append(float(elements[3]))\n",
    "    \n",
    "    # convert those lists to arrays and return them\n",
    "    return np.array(w), np.array(x), np.array(y), np.array(z)\n"
   ]
  },
  {
   "cell_type": "code",
   "execution_count": null,
   "metadata": {
    "collapsed": true
   },
   "outputs": [],
   "source": [
    "RA,DEC,HD,Vmag = read4col ('')"
   ]
  },
  {
   "cell_type": "markdown",
   "metadata": {},
   "source": [
    "## Magnitude Formula"
   ]
  },
  {
   "cell_type": "code",
   "execution_count": 5,
   "metadata": {
    "collapsed": false
   },
   "outputs": [
    {
     "ename": "SyntaxError",
     "evalue": "invalid syntax (<ipython-input-5-5b3eca75ef76>, line 21)",
     "output_type": "error",
     "traceback": [
      "\u001b[0;36m  File \u001b[0;32m\"<ipython-input-5-5b3eca75ef76>\"\u001b[0;36m, line \u001b[0;32m21\u001b[0m\n\u001b[0;31m    Fluxes = (10**(-M/2.5))FLUXOFVEGA\u001b[0m\n\u001b[0m                                    ^\u001b[0m\n\u001b[0;31mSyntaxError\u001b[0m\u001b[0;31m:\u001b[0m invalid syntax\n"
     ]
    }
   ],
   "source": [
    "def MagnitudeToFlux(M):\n",
    "    \"\"\"\n",
    "    This function uses the visual magnitude of a group of star\n",
    "    to find out their energy flux (power/area).\n",
    "    \n",
    "    Parameters: \n",
    "    -------------------\n",
    "    M= numpy array of the visual magnitudes of a group of stars\n",
    "    \n",
    "    Returns: \n",
    "    -------------------\n",
    "    Fluxes= numpy array of the  fluxes of the stars in fluxes of vega\n",
    "    \n",
    "    Example: \n",
    "    \"\"\"\n",
    "    \n",
    "    # Use magnitudes formula, need to use the flux of a Star with magnitude 0 for the formula to work \n",
    "\n",
    "    Fluxes = (10**(-M/2.5))\n",
    "    \n",
    "    return Fluxes"
   ]
  },
  {
   "cell_type": "code",
   "execution_count": null,
   "metadata": {
    "collapsed": true
   },
   "outputs": [],
   "source": []
  },
  {
   "cell_type": "code",
   "execution_count": null,
   "metadata": {
    "collapsed": true
   },
   "outputs": [],
   "source": []
  }
 ],
 "metadata": {
  "anaconda-cloud": {},
  "kernelspec": {
   "display_name": "Python [conda root]",
   "language": "python",
   "name": "conda-root-py"
  },
  "language_info": {
   "codemirror_mode": {
    "name": "ipython",
    "version": 2
   },
   "file_extension": ".py",
   "mimetype": "text/x-python",
   "name": "python",
   "nbconvert_exporter": "python",
   "pygments_lexer": "ipython2",
   "version": "2.7.12"
  }
 },
 "nbformat": 4,
 "nbformat_minor": 1
}
