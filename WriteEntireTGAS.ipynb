{
 "cells": [
  {
   "cell_type": "markdown",
   "metadata": {},
   "source": [
    "This notebook writes out all of the good TGAS positions into one big file."
   ]
  },
  {
   "cell_type": "code",
   "execution_count": 1,
   "metadata": {
    "collapsed": false
   },
   "outputs": [],
   "source": [
    "import numpy as np\n",
    "import matplotlib.pyplot as plt\n",
    "%matplotlib notebook\n",
    "import FunctionsToLoadGaia as load\n",
    "import astropy.io.ascii, astropy.table"
   ]
  },
  {
   "cell_type": "code",
   "execution_count": 2,
   "metadata": {
    "collapsed": false
   },
   "outputs": [
    {
     "name": "stdout",
     "output_type": "stream",
     "text": [
      "['data/TgasSource_000-000-000.fits', 'data/TgasSource_000-000-001.fits', 'data/TgasSource_000-000-002.fits', 'data/TgasSource_000-000-003.fits', 'data/TgasSource_000-000-004.fits', 'data/TgasSource_000-000-005.fits', 'data/TgasSource_000-000-006.fits', 'data/TgasSource_000-000-007.fits', 'data/TgasSource_000-000-008.fits', 'data/TgasSource_000-000-009.fits', 'data/TgasSource_000-000-010.fits', 'data/TgasSource_000-000-011.fits', 'data/TgasSource_000-000-012.fits', 'data/TgasSource_000-000-013.fits', 'data/TgasSource_000-000-015.fits']\n"
     ]
    }
   ],
   "source": [
    "\n",
    "from glob import glob\n",
    "filenames = glob('data/TgasSource_000-000-*.fits')\n",
    "print filenames\n",
    "X, Y, Z, AbsoluteMagnitudes = np.array([]), np.array([]), np.array([]), np.array([])\n",
    "for f in filenames:\n",
    "    XX,YY,ZZ,RA,Dec,Magnitudes,Distances,AB,Fluxes,label =load.extractStars(f)\n",
    "    X = np.append(X, XX)\n",
    "    Y = np.append(Y, YY)\n",
    "    Z = np.append(Z, ZZ)\n",
    "    AbsoluteMagnitudes = np.append(AbsoluteMagnitudes, AB)\n"
   ]
  },
  {
   "cell_type": "code",
   "execution_count": 4,
   "metadata": {
    "collapsed": false
   },
   "outputs": [],
   "source": [
    "ID = np.arange(len(X))\n",
    "DX = np.zeros_like(X)\n",
    "DY = np.zeros_like(X)\n",
    "DZ = np.zeros_like(X)\n",
    "BV = np.zeros_like(X)\n",
    "\n",
    "table = astropy.table.Table([ID, X, Y, Z, DX, DY, DZ, BV, AbsoluteMagnitudes],\n",
    "        names=['ID', 'X', 'Y', 'Z', 'DX', 'DY', 'DZ', 'BV', 'AbsMag'])\n",
    "                      \n",
    "au_per_pc = 180/np.pi*60*60\n",
    "X /= au_per_pc\n",
    "Y /= au_per_pc\n",
    "Z /= au_per_pc\n",
    "\n",
    "\n",
    "# write out the table\n",
    "astropy.io.ascii.write(table, 'alltogether.dat',\n",
    "                       format='fixed_width',\n",
    "                       delimiter='\\t', overwrite=True)\n",
    "\n",
    "#This was added to a function named fileForFiske. It is found on FunctionsToLoadGaia."
   ]
  },
  {
   "cell_type": "code",
   "execution_count": 20,
   "metadata": {
    "collapsed": true
   },
   "outputs": [],
   "source": [
    "# this trims the astropy header off the file\n",
    "!tail +2 alltogether.dat > withoutheader.dat"
   ]
  },
  {
   "cell_type": "code",
   "execution_count": 21,
   "metadata": {
    "collapsed": true
   },
   "outputs": [],
   "source": [
    "# combine the prefix and the header together\n",
    "!cat prefix.dat withoutheader.dat > TGAS.dat"
   ]
  }
 ],
 "metadata": {
  "anaconda-cloud": {},
  "kernelspec": {
   "display_name": "Python 2",
   "language": "python",
   "name": "python2"
  },
  "language_info": {
   "codemirror_mode": {
    "name": "ipython",
    "version": 2
   },
   "file_extension": ".py",
   "mimetype": "text/x-python",
   "name": "python",
   "nbconvert_exporter": "python",
   "pygments_lexer": "ipython2",
   "version": "2.7.13"
  }
 },
 "nbformat": 4,
 "nbformat_minor": 1
}
