{
 "cells": [
  {
   "cell_type": "code",
   "execution_count": 1,
   "metadata": {
    "collapsed": false
   },
   "outputs": [],
   "source": [
    "import numpy as np\n",
    "import matplotlib.pyplot as plt\n",
    "%matplotlib inline\n",
    "\n",
    "from math import pi\n",
    "\n",
    "import astropy.io.ascii as a\n",
    "import astropy.io.fits\n",
    "import astropy.table\n",
    "\n",
    "#created a file with formulas for this\n",
    "import FunctionsForGaia as F\n",
    "import FunctionsToLoadGaia as load"
   ]
  },
  {
   "cell_type": "code",
   "execution_count": null,
   "metadata": {
    "collapsed": true
   },
   "outputs": [],
   "source": [
    "def plotDarkBackground(RA,Dec,Fluxes):\n",
    "    \"\"\"\n",
    "    This function plots and saves the RA and DEC in a aitoff black background.\n",
    "    Star sizes are proportional to the stars' fluxes.\n",
    "    \"\"\"\n",
    "    \n",
    "    plt.style.use('dark_background')\n",
    "    plt.figure(figsize=(9,9),facecolor=('white'))\n",
    "    plt.subplot(111, projection=\"aitoff\")\n",
    "    kwargs = dict(color=('white'),alpha=0.1)\n",
    "    plt.scatter(RA,Dec, s = Fluxes/100000000,**kwargs)\n",
    "    plt.grid(True)"
   ]
  },
  {
   "cell_type": "code",
   "execution_count": 2,
   "metadata": {
    "collapsed": false
   },
   "outputs": [],
   "source": [
    "def extractStars2(filename):\n",
    "    hdu = astropy.io.fits.open(filename)\n",
    "    table = astropy.table.Table(hdu[1].data)\n",
    "#    fraction = np.abs(table['parallax_error']/table['parallax'])\n",
    "#    ok1 = fraction < 0.2\n",
    "#    ok2 = table['parallax']>0\n",
    "#    ok = ok1*ok2\n",
    "    Dec = (table['dec'].data)*(pi/180) #change degrees to radians.\n",
    "    Fluxes= table['phot_g_mean_flux'].data\n",
    "    RA = (table['ra'].data)\n",
    "    over180 = RA > 180 #want RA values to be from -180 to 180\n",
    "    RA[over180] = (RA[over180] - 360)\n",
    "    RA = RA*(pi/180) #change degrees to radians.\n",
    "    \n",
    "    return RA,Dec,Fluxes"
   ]
  },
  {
   "cell_type": "code",
   "execution_count": 3,
   "metadata": {
    "collapsed": false
   },
   "outputs": [],
   "source": [
    "#extract RA,Dec and Fluxes from all the fits files and give them a file-dependant name\n",
    "\n",
    "RA,Dec,Fluxes = extractStars2('data/TgasSource_000-000-000.fits')\n",
    "RA1,Dec1,Fluxes1 = extractStars2('data/TgasSource_000-000-001.fits')\n",
    "RA2,Dec2,Fluxes2 = extractStars2('data/TgasSource_000-000-002.fits')\n",
    "RA3,Dec3,Fluxes3 = extractStars2('data/TgasSource_000-000-003.fits')\n",
    "RA4,Dec4,Fluxes4 = extractStars2('data/TgasSource_000-000-004.fits')\n",
    "RA5,Dec5,Fluxes5 = extractStars2('data/TgasSource_000-000-005.fits')\n",
    "RA6,Dec6,Fluxes6 = extractStars2('data/TgasSource_000-000-006.fits')\n",
    "RA7,Dec7,Fluxes7 = extractStars2('data/TgasSource_000-000-007.fits')\n",
    "RA8,Dec8,Fluxes8 = extractStars2('data/TgasSource_000-000-008.fits')\n",
    "RA9,Dec9,Fluxes9 = extractStars2('data/TgasSource_000-000-009.fits')\n",
    "RA10,Dec10,Fluxes10 = extractStars2('data/TgasSource_000-000-010.fits')\n",
    "RA11,Dec11,Fluxes11 = extractStars2('data/TgasSource_000-000-011.fits')\n",
    "RA12,Dec12,Fluxes12 = extractStars2('data/TgasSource_000-000-012.fits')\n",
    "RA13,Dec13,Fluxes13 = extractStars2('data/TgasSource_000-000-013.fits')\n",
    "RA14,Dec14,Fluxes14 = extractStars2('data/TgasSource_000-000-014.fits')\n",
    "RA15,Dec15,Fluxes15 = extractStars2('data/TgasSource_000-000-015.fits')"
   ]
  },
  {
   "cell_type": "code",
   "execution_count": null,
   "metadata": {
    "collapsed": false
   },
   "outputs": [],
   "source": [
    "#Make a plot that contains all the stars (from all 16 files)\n",
    "\n",
    "plt.style.use('dark_background') #change the background of the plot to be black \n",
    "plt.figure(figsize=(9,9),facecolor=('white')) \n",
    "plt.subplot(111, projection=\"aitoff\") \n",
    "#plt.title('Right Ascension vs Declination')\n",
    "kwargs = dict(color=('white'),alpha=0.1) #use kword arguments\n",
    "plt.scatter(RA,Dec, s = Fluxes/100000000,**kwargs)\n",
    "plt.scatter(RA1,Dec1, s = Fluxes1/100000000,**kwargs)\n",
    "plt.scatter(RA2,Dec2, s = Fluxes2/100000000,**kwargs)\n",
    "plt.scatter(RA3,Dec3, s = Fluxes3/100000000,**kwargs)\n",
    "plt.scatter(RA4,Dec4, s = Fluxes4/100000000,**kwargs)\n",
    "plt.scatter(RA5,Dec5, s = Fluxes5/100000000,**kwargs)\n",
    "plt.scatter(RA6,Dec6, s = Fluxes6/100000000,**kwargs)\n",
    "plt.scatter(RA7,Dec7, s = Fluxes7/100000000,**kwargs)\n",
    "plt.scatter(RA8,Dec8, s = Fluxes8/100000000,**kwargs)\n",
    "plt.scatter(RA9,Dec9, s = Fluxes9/100000000,**kwargs)\n",
    "plt.scatter(RA10,Dec10, s = Fluxes10/100000000,**kwargs)\n",
    "plt.scatter(RA11,Dec11, s = Fluxes11/100000000,**kwargs)\n",
    "plt.scatter(RA12,Dec12, s = Fluxes12/100000000,**kwargs)\n",
    "plt.scatter(RA13,Dec13, s = Fluxes13/100000000,**kwargs)\n",
    "plt.scatter(RA14,Dec14, s = Fluxes14/100000000,**kwargs)\n",
    "plt.scatter(RA15,Dec15, s = Fluxes15/100000000,**kwargs)\n",
    "plt.grid(True)\n",
    "plt.savefig('RaDec2')"
   ]
  },
  {
   "cell_type": "raw",
   "metadata": {
    "collapsed": true
   },
   "source": [
    "I changed the parallax to all the stars that have a negative parallax to be 10^-6 arcseconds\n",
    "\n",
    "10^-6 arcseconds"
   ]
  }
 ],
 "metadata": {
  "anaconda-cloud": {},
  "kernelspec": {
   "display_name": "Python [default]",
   "language": "python",
   "name": "python2"
  },
  "language_info": {
   "codemirror_mode": {
    "name": "ipython",
    "version": 2
   },
   "file_extension": ".py",
   "mimetype": "text/x-python",
   "name": "python",
   "nbconvert_exporter": "python",
   "pygments_lexer": "ipython2",
   "version": "2.7.12"
  }
 },
 "nbformat": 4,
 "nbformat_minor": 1
}
