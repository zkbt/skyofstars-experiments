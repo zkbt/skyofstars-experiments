{
 "cells": [
  {
   "cell_type": "raw",
   "metadata": {},
   "source": [
    "## def convertTGASfile(filename):\n",
    " #### '''this function will:\n",
    " ####     -read in a TGAS FITS file\n",
    " ####     -convert it into a table\n",
    " ####     -extract the RA, Dec, parallax, etc... from the table\n",
    " ####     -trim to only the good data\n",
    " ####     -calculate distance, x, y, z for every star\n",
    " ####     -create some demonstration plots (labeled by the filename)\n",
    " ####       +x vs y\n",
    " ####       +y vs z\n",
    " ####       +ra vs dec\n",
    " ####     -save these plots to files (whose names depend on the input \"filename\")\n",
    " \n",
    " \n",
    " ####     -save a text file that contains X, Y, Z positions and aboslute magnitudes\n",
    " ####   '''"
   ]
  },
  {
   "cell_type": "code",
   "execution_count": null,
   "metadata": {
    "collapsed": true
   },
   "outputs": [],
   "source": [
    "import numpy as np\n",
    "import matplotlib.pyplot as plt\n",
    "%matplotlib inline\n",
    "\n",
    "import astropy.io.ascii as a\n",
    "\n",
    "from math import pi\n",
    "\n",
    "import astropy.io.fits\n",
    "import astropy.table\n",
    "\n",
    "import FormulasForGaia as F"
   ]
  },
  {
   "cell_type": "code",
   "execution_count": null,
   "metadata": {
    "collapsed": false
   },
   "outputs": [],
   "source": [
    "def convertTGASfile(filename):\n",
    "    \"\"\"\n",
    "        This function will:\n",
    "        read in a TGAS FITS file and only use the data from stars whose parallax error is\n",
    "        less than 20%.\n",
    "        Create demonstraation plots.\n",
    "        Save all the plots\n",
    "        Save a text file containing X,Y,Z positions and absolute magnitudes\n",
    "        \n",
    "        Arguments:\n",
    "            Filename = TGAS file\n",
    "        Returns:\n",
    "            4 plots: x vs y position, x vs z position, y vs z position and RA vs Dec\n",
    "            (without the stars with a parallax with an error greater than 20%)\n",
    "        Saves:\n",
    "            Same 4 plots returned and a text file that contains X,Y,Z positions and absolute magnitudes for each star.\n",
    "      \"\"\"\n",
    "    #Read the file into a table\n",
    "    hdu = astropy.io.fits.open(filename)\n",
    "    table = astropy.table.Table(hdu[1].data)\n",
    "\n",
    "    #Create a statement to get rid of stars with parallax error larger than 20% or with negative distances\n",
    "    fraction = np.abs(table['parallax_error']/table['parallax'])\n",
    "    ok1 = fraction < 0.2\n",
    "    ok2 = table['parallax']>0\n",
    "    ok = ok1*ok2\n",
    "    \n",
    "    #From the table, extract parallax and other useful info, take only those rows for which [ok] is true\n",
    "    Parallax= table['parallax'].data[ok] #.data takes only the numbers, getting rid of the tittle of the column\n",
    "    Dec = (table['dec'].data[ok])*(pi/180) #changing to radians\n",
    "    RA = (table['ra'].data[ok])*(pi/180)\n",
    "    Fluxes= table['phot_g_mean_flux'].data[ok]\n",
    "    Magnitudes = table['phot_g_mean_mag'].data[ok]\n",
    "    \n",
    "    #Use formulas to produce more useful arrays\n",
    "    Distances = F.ParallaxToDistance(Parallax)\n",
    "    X,Y,Z= F.toXYZ(RA,Dec,Distances)\n",
    "    \n",
    "    #Make demosntration Plots    \n",
    "    plt.figure(figsize=(9,9))\n",
    "    plt.scatter(X,Y,s = Fluxes/1000000,alpha=0.1)\n",
    "    plt.xlim(np.min(X),np.max(X))\n",
    "    plt.ylim(np.min(Y),np.max(Y))\n",
    "    plt.xlabel('X Coordinates')\n",
    "    plt.ylabel('y coordinates')  \n",
    "    plt.title('X vs Y for {}'.format(filename))\n",
    "    plt.savefig('X vs Y for')\n",
    "    \n",
    "    plt.figure(figsize=(9,9))\n",
    "    plt.scatter(X,Z,s = Fluxes/1000000,alpha=0.1)\n",
    "    plt.xlim(np.min(X),np.max(X))\n",
    "    plt.ylim(np.min(Z),np.max(Z))\n",
    "    plt.xlabel('X Coordinates')\n",
    "    plt.ylabel('Z coordinates')  \n",
    "    plt.title('X vs Z for {}'.format(filename))\n",
    "    plt.savefig('X vs Z for')\n",
    "    \n",
    "    plt.figure(figsize=(9,9))\n",
    "    plt.scatter(Y,Z,s = Fluxes/1000000,alpha=0.1)\n",
    "    plt.xlim(np.min(Y),np.max(Y))\n",
    "    plt.ylim(np.min(Z),np.max(Z))\n",
    "    plt.xlabel('Y Coordinates')\n",
    "    plt.ylabel('Z coordinates')  \n",
    "    plt.title('Y vs Z for {}'.format(filename))\n",
    "    plt.savefig('Y vs Z for ')\n",
    "    \n",
    "    plt.figure(figsize=(9,9))\n",
    "    plt.subplot(111, projection=\"aitoff\")\n",
    "    plt.scatter(RA,Dec,color='aqua')\n",
    "    plt.xlabel('Right Ascension')\n",
    "    plt.ylabel('Declination')\n",
    "    plt.grid(True)\n",
    "    plt.title('RA and Dec for {}'.format(filename))\n",
    "    plt.savefig('RA vs Dec for')\n",
    "    \n",
    "    \n",
    "#    with open('Data for {}.txt'.format(filename),'w') as file:\n",
    "#        for item in X:\n",
    "#            print>>file, item\n",
    "#        for item in Y:\n",
    "#            print>>file, item\n",
    "#        for item in Z:\n",
    "#            print>>file, item\n",
    "#        for item in Magnitudes:\n",
    "#            print>>file, item\n",
    "    \n",
    "    return Parallax"
   ]
  },
  {
   "cell_type": "code",
   "execution_count": null,
   "metadata": {
    "collapsed": false
   },
   "outputs": [],
   "source": [
    "convertTGASfile('data/TgasSource_000-000-000.fits')"
   ]
  },
  {
   "cell_type": "code",
   "execution_count": null,
   "metadata": {
    "collapsed": false
   },
   "outputs": [],
   "source": [
    "convertTGASfile('data/TgasSource_000-000-001.fits')"
   ]
  },
  {
   "cell_type": "code",
   "execution_count": null,
   "metadata": {
    "collapsed": false
   },
   "outputs": [],
   "source": [
    "convertTGASfile('data/TgasSource_000-000-002.fits')"
   ]
  },
  {
   "cell_type": "code",
   "execution_count": null,
   "metadata": {
    "collapsed": true
   },
   "outputs": [],
   "source": []
  }
 ],
 "metadata": {
  "anaconda-cloud": {},
  "kernelspec": {
   "display_name": "Python [default]",
   "language": "python",
   "name": "python2"
  },
  "language_info": {
   "codemirror_mode": {
    "name": "ipython",
    "version": 2
   },
   "file_extension": ".py",
   "mimetype": "text/x-python",
   "name": "python",
   "nbconvert_exporter": "python",
   "pygments_lexer": "ipython2",
   "version": "2.7.12"
  }
 },
 "nbformat": 4,
 "nbformat_minor": 1
}
