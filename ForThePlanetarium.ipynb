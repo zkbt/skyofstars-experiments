{
 "cells": [
  {
   "cell_type": "code",
   "execution_count": 1,
   "metadata": {
    "collapsed": false
   },
   "outputs": [],
   "source": [
    "import numpy as np\n",
    "import matplotlib.pyplot as plt\n",
    "%matplotlib inline\n",
    "import FunctionsToLoadGaia as load\n",
    "import astropy.io.ascii, astropy.table"
   ]
  },
  {
   "cell_type": "code",
   "execution_count": 2,
   "metadata": {
    "collapsed": false
   },
   "outputs": [],
   "source": [
    "#let's try doing it for just one file\n",
    "X,Y,Z,RA,Dec,Magnitudes,Distances,AbsoluteMagnitudes,Fluxes,label =load.extractStars('data/TgasSource_000-000-000.fits')"
   ]
  },
  {
   "cell_type": "code",
   "execution_count": 20,
   "metadata": {
    "collapsed": false
   },
   "outputs": [],
   "source": [
    "ID = np.arange(len(X))\n",
    "DX = np.zeros_like(X)\n",
    "DY = np.zeros_like(X)\n",
    "DZ = np.zeros_like(X)\n",
    "BV = np.zeros_like(X)\n",
    "\n",
    "table = astropy.table.Table([ID, X, Y, Z, DX, DY, DZ, BV, AbsoluteMagnitudes],\n",
    "        names=['ID', 'X', 'Y', 'Z', 'DX', 'DY', 'DZ', 'BV', 'AbsMag'])\n",
    "                          \n",
    "# write out the table\n",
    "astropy.io.ascii.write(table, 'testoutput.dat',format='fixed_width',delimiter='\\t')\n",
    "\n",
    "#This was added to a function named fileForFiske. It is found on FunctionsToLoadGaia."
   ]
  },
  {
   "cell_type": "code",
   "execution_count": 3,
   "metadata": {
    "collapsed": false
   },
   "outputs": [
    {
     "name": "stdout",
     "output_type": "stream",
     "text": [
      "['data/TgasSource_000-000-000.fits', 'data/TgasSource_000-000-001.fits', 'data/TgasSource_000-000-002.fits', 'data/TgasSource_000-000-003.fits', 'data/TgasSource_000-000-004.fits', 'data/TgasSource_000-000-005.fits', 'data/TgasSource_000-000-006.fits', 'data/TgasSource_000-000-007.fits', 'data/TgasSource_000-000-008.fits', 'data/TgasSource_000-000-009.fits', 'data/TgasSource_000-000-010.fits', 'data/TgasSource_000-000-011.fits', 'data/TgasSource_000-000-012.fits', 'data/TgasSource_000-000-013.fits', 'data/TgasSource_000-000-015.fits']\n"
     ]
    }
   ],
   "source": [
    "#Trial 1\n",
    "\n",
    "#Put all .Fits files in a more accessible format\n",
    "from glob import glob\n",
    "filenames = glob('data/TgasSource_000-000-*.fits')\n",
    "print filenames"
   ]
  },
  {
   "cell_type": "code",
   "execution_count": 4,
   "metadata": {
    "collapsed": false
   },
   "outputs": [
    {
     "name": "stdout",
     "output_type": "stream",
     "text": [
      "data/TgasSource_000-000-000.fits\n",
      "data/TgasSource_000-000-001.fits\n",
      "data/TgasSource_000-000-002.fits\n",
      "data/TgasSource_000-000-003.fits\n",
      "data/TgasSource_000-000-004.fits\n",
      "data/TgasSource_000-000-005.fits\n",
      "data/TgasSource_000-000-006.fits\n",
      "data/TgasSource_000-000-007.fits\n",
      "data/TgasSource_000-000-008.fits\n",
      "data/TgasSource_000-000-009.fits\n",
      "data/TgasSource_000-000-010.fits\n",
      "data/TgasSource_000-000-011.fits\n",
      "data/TgasSource_000-000-012.fits\n",
      "data/TgasSource_000-000-013.fits\n",
      "data/TgasSource_000-000-015.fits\n"
     ]
    }
   ],
   "source": [
    "for i in range(len(filenames)):\n",
    "    print filenames[i]\n",
    "    load.fileForFiske(filenames[i])"
   ]
  },
  {
   "cell_type": "code",
   "execution_count": null,
   "metadata": {
    "collapsed": true
   },
   "outputs": [],
   "source": []
  }
 ],
 "metadata": {
  "anaconda-cloud": {},
  "kernelspec": {
   "display_name": "Python [default]",
   "language": "python",
   "name": "python2"
  },
  "language_info": {
   "codemirror_mode": {
    "name": "ipython",
    "version": 2
   },
   "file_extension": ".py",
   "mimetype": "text/x-python",
   "name": "python",
   "nbconvert_exporter": "python",
   "pygments_lexer": "ipython2",
   "version": "2.7.12"
  }
 },
 "nbformat": 4,
 "nbformat_minor": 1
}
